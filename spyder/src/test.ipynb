{
 "cells": [
  {
   "cell_type": "code",
   "execution_count": null,
   "metadata": {},
   "outputs": [
    {
     "ename": "",
     "evalue": "",
     "output_type": "error",
     "traceback": [
      "\u001b[1;31m内核启动失败，因为无法从 \"/home/longmenzhen/.conda/envs/pinwall/lib/python3.12/site-packages/asttokens/__init__.py\" 导入 \"ASTText\"。\n",
      "\u001b[1;31m有关详细信息，请单击 <a href=\"https://aka.ms/kernelFailuresModuleImportErrFromFile\">此处</a>。"
     ]
    }
   ],
   "source": [
    "from web import Pixiv\n",
    "pixiv = Pixiv()"
   ]
  },
  {
   "cell_type": "code",
   "execution_count": null,
   "metadata": {},
   "outputs": [
    {
     "ename": "",
     "evalue": "",
     "output_type": "error",
     "traceback": [
      "\u001b[1;31m内核启动失败，因为无法从 \"/home/longmenzhen/.conda/envs/pinwall/lib/python3.12/site-packages/asttokens/__init__.py\" 导入 \"ASTText\"。\n",
      "\u001b[1;31m有关详细信息，请单击 <a href=\"https://aka.ms/kernelFailuresModuleImportErrFromFile\">此处</a>。"
     ]
    }
   ],
   "source": [
    "pixiv.get_artist_info('122500')"
   ]
  }
 ],
 "metadata": {
  "kernelspec": {
   "display_name": "pinwall",
   "language": "python",
   "name": "python3"
  },
  "language_info": {
   "name": "python",
   "version": "3.12.0"
  }
 },
 "nbformat": 4,
 "nbformat_minor": 2
}
